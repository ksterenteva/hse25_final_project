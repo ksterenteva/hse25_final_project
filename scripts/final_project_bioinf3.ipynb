{
  "nbformat": 4,
  "nbformat_minor": 0,
  "metadata": {
    "colab": {
      "provenance": []
    },
    "kernelspec": {
      "name": "python3",
      "display_name": "Python 3"
    },
    "language_info": {
      "name": "python"
    }
  },
  "cells": [
    {
      "cell_type": "code",
      "source": [
        "import pandas as pd\n",
        "\n",
        "annotation_df = pd.read_pickle(\"annotation_df_with_introns.pkl\")\n",
        "chr_seqid = [\n",
        "    \"NC_058066.1\", \"NC_058067.1\", \"NC_058068.1\", \"NC_058069.1\", \"NC_058070.1\",\n",
        "    \"NC_058071.1\", \"NC_058072.1\", \"NC_058073.1\", \"NC_058074.1\", \"NC_058075.1\",\n",
        "    \"NC_058076.1\", \"NC_058077.1\", \"NC_058078.1\", \"NC_058079.1\"\n",
        "]\n",
        "\n",
        "def create_bed_files(df):\n",
        "    # EXONS\n",
        "    exons = df[df['type'] == 'exon'][['seqid', 'start', 'end', 'strand']].copy()\n",
        "    exons['start'] = exons['start'] - 1\n",
        "    exons['name'] = '.'\n",
        "    exons['score'] = '0'\n",
        "    exons = exons[['seqid', 'start', 'end', 'name', 'score', 'strand']]\n",
        "    exons.to_csv('exons.bed', sep='\\t', header=False, index=False)\n",
        "\n",
        "    # INTRONS\n",
        "    introns = df[df['type'] == 'intron'][['seqid', 'start', 'end', 'strand']].copy()\n",
        "    introns['start'] = introns['start'] - 1\n",
        "    introns['name'] = '.'\n",
        "    introns['score'] = '0'\n",
        "    introns = introns[['seqid', 'start', 'end', 'name', 'score', 'strand']]\n",
        "    introns.to_csv('introns.bed', sep='\\t', header=False, index=False)\n",
        "\n",
        "    # GENES\n",
        "    genes = df[df['type'] == 'gene'][['seqid', 'start', 'end', 'strand']].copy()\n",
        "    genes['start'] = genes['start'] - 1\n",
        "    genes['name'] = '.'\n",
        "    genes['score'] = '0'\n",
        "    genes = genes[['seqid', 'start', 'end', 'name', 'score', 'strand']]\n",
        "    genes.to_csv('genes.bed', sep='\\t', header=False, index=False)\n",
        "\n",
        "    # PROMOTERS (1000bp upstream from TSS)\n",
        "    promoters = []\n",
        "    for _, row in genes.iterrows():\n",
        "        chrom, start, end, _, _, strand = row\n",
        "        if strand == '+':\n",
        "            prom_start = max(0, start - 1000)\n",
        "            prom_end = start\n",
        "        else:\n",
        "            prom_start = end\n",
        "            prom_end = end + 1000\n",
        "        promoters.append([chrom, prom_start, prom_end, '.', '0', strand])\n",
        "    pd.DataFrame(promoters).to_csv('promoters.bed', sep='\\t', header=False, index=False)\n",
        "\n",
        "    # DOWNSTREAM (200bp from gene end)\n",
        "    downstream = []\n",
        "    for _, row in genes.iterrows():\n",
        "        chrom, start, end, _, _, strand = row\n",
        "        if strand == '+':\n",
        "            down_start = end\n",
        "            down_end = end + 200\n",
        "        else:\n",
        "            down_start = max(0, start - 200)\n",
        "            down_end = start\n",
        "        downstream.append([chrom, down_start, down_end, '.', '0', strand])\n",
        "    pd.DataFrame(downstream).to_csv('downstream.bed', sep='\\t', header=False, index=False)\n",
        "\n",
        "    # INTERGENIC REGIONS\n",
        "    intergenic = []\n",
        "    for chrom in chr_seqid:\n",
        "        chrom_genes = genes[genes['seqid'] == chrom].sort_values('start')\n",
        "        prev_end = 0\n",
        "        for _, gene in chrom_genes.iterrows():\n",
        "            gene_start = gene['start']\n",
        "            if gene_start > prev_end:\n",
        "                intergenic.append([chrom, prev_end, gene_start, '.', '0', '.'])\n",
        "            prev_end = gene['end']\n",
        "    pd.DataFrame(intergenic).to_csv('intergenic.bed', sep='\\t', header=False, index=False)\n",
        "\n",
        "create_bed_files(annotation_df)\n"
      ],
      "metadata": {
        "id": "j_vSXyA4490k"
      },
      "execution_count": null,
      "outputs": []
    },
    {
      "cell_type": "code",
      "source": [
        "\n",
        "annotation_df = pd.read_pickle(\"annotation_df_with_introns.pkl\")\n",
        "annotation_df['start_bed'] = annotation_df['start'] - 1\n",
        "annotation_df['end_bed'] = annotation_df['end']\n",
        "\n",
        "def region_length(df, region_type):\n",
        "    sub = df[df['type'] == region_type]\n",
        "    return (sub['end_bed'] - sub['start_bed']).sum()\n",
        "\n",
        "lengths = {}\n",
        "for region in ['exon', 'intron', 'gene']:\n",
        "    lengths[region] = region_length(annotation_df, region)\n",
        "\n",
        "genes_df = annotation_df[annotation_df['type'] == 'gene'].copy()\n",
        "genes_df['start_bed'] = genes_df['start'] - 1\n",
        "promoters_total = genes_df.shape[0] * 1000\n",
        "lengths['promoter'] = promoters_total\n",
        "\n",
        "downstream_total = genes_df.shape[0] * 200\n",
        "lengths['downstream'] = downstream_total\n",
        "\n",
        "chr_seqid = [\n",
        "    \"NC_058066.1\", \"NC_058067.1\", \"NC_058068.1\", \"NC_058069.1\", \"NC_058070.1\",\n",
        "    \"NC_058071.1\", \"NC_058072.1\", \"NC_058073.1\", \"NC_058074.1\", \"NC_058075.1\",\n",
        "    \"NC_058076.1\", \"NC_058077.1\", \"NC_058078.1\", \"NC_058079.1\"\n",
        "]\n",
        "\n",
        "intergenic_total = 0\n",
        "for chrom in chr_seqid:\n",
        "    chrom_genes = genes_df[genes_df['seqid'] == chrom].sort_values('start_bed')\n",
        "    prev_end = 0\n",
        "    for _, row in chrom_genes.iterrows():\n",
        "        gene_start = row['start_bed']\n",
        "        if gene_start > prev_end:\n",
        "            intergenic_total += gene_start - prev_end\n",
        "        prev_end = max(prev_end, row['end_bed'])  # на случай наложений\n",
        "lengths['intergenic'] = intergenic_total\n",
        "\n",
        "total = sum(lengths.values())\n",
        "\n",
        "fractions = {region: round(length / total * 100, 2) for region, length in lengths.items()}\n",
        "\n",
        "print(\" Длины участков (в bp):\")\n",
        "for k, v in lengths.items():\n",
        "    print(f\"{k:<12}: {v}\")\n",
        "\n",
        "print(\"\\n Доли от всех аннотированных участков (%):\")\n",
        "for k, v in fractions.items():\n",
        "    print(f\"{k:<12}: {v}\")\n"
      ],
      "metadata": {
        "colab": {
          "base_uri": "https://localhost:8080/"
        },
        "id": "duco0Deb7R0F",
        "outputId": "62640009-011d-4af2-e0d8-aeec306e1b6b"
      },
      "execution_count": null,
      "outputs": [
        {
          "output_type": "stream",
          "name": "stdout",
          "text": [
            " Длины участков (в bp):\n",
            "exon        : 94647500\n",
            "intron      : 159579732\n",
            "gene        : 223943420\n",
            "promoter    : 27201000\n",
            "downstream  : 5440200\n",
            "intergenic  : 129665390\n",
            "\n",
            " Доли от всех аннотированных участков (%):\n",
            "exon        : 14.78\n",
            "intron      : 24.92\n",
            "gene        : 34.97\n",
            "promoter    : 4.25\n",
            "downstream  : 0.85\n",
            "intergenic  : 20.25\n"
          ]
        }
      ]
    },
    {
      "cell_type": "markdown",
      "source": [
        "### Пересечение Zhunt"
      ],
      "metadata": {
        "id": "3jsMEEolyH--"
      }
    },
    {
      "cell_type": "code",
      "source": [
        "!bedtools intersect -a zdna_gt400.bed -b exons.bed -wo > exon_intersections.bed\n",
        "!bedtools intersect -a zdna_gt400.bed -b introns.bed -wo > intron_intersections.bed\n",
        "!bedtools intersect -a zdna_gt400.bed -b promoters.bed -wo > promoter_intersections.bed\n",
        "!bedtools intersect -a zdna_gt400.bed -b intergenic.bed -wo > intergenic_intersections.bed\n",
        "!bedtools intersect -a zdna_gt400.bed -b genes.bed -wo > gene_intersections.bed\n",
        "!bedtools intersect -a zdna_gt400.bed -b downstream.bed -wo > downstream_intersections.bed\n"
      ],
      "metadata": {
        "id": "BnmqJ9xf5CvZ"
      },
      "execution_count": null,
      "outputs": []
    },
    {
      "cell_type": "code",
      "source": [
        "def analyze_intersections():\n",
        "    results = []\n",
        "    total_quad = sum(1 for _ in open('zdna_gt400.bed'))\n",
        "\n",
        "    regions = ['exon', 'intron', 'promoter', 'intergenic', 'gene', 'downstream']\n",
        "    for region in regions:\n",
        "        try:\n",
        "            df = pd.read_csv(f'{region}_intersections.bed', sep='\\t', header=None)\n",
        "            count = len(df)\n",
        "        except:\n",
        "            count = 0\n",
        "        results.append({\n",
        "            'Участок': region,\n",
        "            'Число пересечений': count,\n",
        "            'Доля (%)': round(count / total_quad * 100, 2)\n",
        "        })\n",
        "\n",
        "    return pd.DataFrame(results)\n",
        "\n",
        "results_df = analyze_intersections()\n",
        "print(results_df)\n"
      ],
      "metadata": {
        "colab": {
          "base_uri": "https://localhost:8080/"
        },
        "id": "IoyLumrj5LJI",
        "outputId": "d638ff6f-f39f-4c87-c463-efc8de37dbe4"
      },
      "execution_count": null,
      "outputs": [
        {
          "output_type": "stream",
          "name": "stdout",
          "text": [
            "      Участок  Число пересечений  Доля (%)\n",
            "0        exon             183407     16.09\n",
            "1      intron             391056     34.31\n",
            "2    promoter              78622      6.90\n",
            "3  intergenic             413183     36.25\n",
            "4        gene             505085     44.31\n",
            "5  downstream              14853      1.30\n"
          ]
        }
      ]
    },
    {
      "cell_type": "code",
      "source": [],
      "metadata": {
        "id": "Q5vrv-GLIexv"
      },
      "execution_count": null,
      "outputs": []
    },
    {
      "cell_type": "markdown",
      "source": [
        "### Пересечение zdnabert"
      ],
      "metadata": {
        "id": "Crov6O4bXL-0"
      }
    },
    {
      "cell_type": "code",
      "source": [
        "with open(\"zdnabert_results.txt\") as f:\n",
        "    lines = f.readlines()\n",
        "\n",
        "bed_lines = []\n",
        "chrom = \"\"\n",
        "for line in lines:\n",
        "    line = line.strip()\n",
        "    if line.startswith(\">\"):\n",
        "        chrom = line[1:]\n",
        "    elif line.lower().startswith(\"start\"):\n",
        "        continue\n",
        "    elif line:\n",
        "        start_str, end_str = line.split()\n",
        "        start = max(0, int(start_str) - 1)\n",
        "        end = int(end_str)\n",
        "        bed_lines.append(f\"{chrom}\\t{start}\\t{end}\")\n",
        "\n",
        "with open(\"zdnabert.bed\", \"w\") as out:\n",
        "    out.write(\"\\n\".join(bed_lines))\n",
        "\n",
        "print(\"Файл 'zdnabert.bed' успешно создан (start >= 0).\")\n"
      ],
      "metadata": {
        "colab": {
          "base_uri": "https://localhost:8080/"
        },
        "id": "eTcKOZ15Ie0P",
        "outputId": "56c031b6-e572-428a-8317-d1cbe1938559"
      },
      "execution_count": null,
      "outputs": [
        {
          "output_type": "stream",
          "name": "stdout",
          "text": [
            "Файл 'zdnabert.bed' успешно создан (start >= 0).\n"
          ]
        }
      ]
    },
    {
      "cell_type": "code",
      "source": [
        "! head zdnabert.bed"
      ],
      "metadata": {
        "colab": {
          "base_uri": "https://localhost:8080/"
        },
        "id": "MvAeaX6lIgpC",
        "outputId": "cf36606e-e581-4da9-856e-aa252ed48c51"
      },
      "execution_count": null,
      "outputs": [
        {
          "output_type": "stream",
          "name": "stdout",
          "text": [
            "NC_058066.1\t322\t337\n",
            "NC_058066.1\t23302\t23311\n",
            "NC_058066.1\t25313\t25332\n",
            "NC_058066.1\t25436\t25454\n",
            "NC_058066.1\t26102\t26118\n",
            "NC_058066.1\t29330\t29347\n",
            "NC_058066.1\t30678\t30692\n",
            "NC_058066.1\t30781\t30799\n",
            "NC_058066.1\t31561\t31572\n",
            "NC_058066.1\t41648\t41661\n"
          ]
        }
      ]
    },
    {
      "cell_type": "code",
      "source": [
        "!bedtools intersect -a zdnabert.bed -b exons.bed -u > zdnabert_exons.bed\n",
        "!bedtools intersect -a zdnabert.bed -b introns.bed -u > zdnabert_introns.bed\n",
        "!bedtools intersect -a zdnabert.bed -b promoters.bed -u > zdnabert_promoters.bed\n",
        "!bedtools intersect -a zdnabert.bed -b downstream.bed -u > zdnabert_downstream.bed\n",
        "!bedtools intersect -a zdnabert.bed -b intergenic.bed -u > zdnabert_intergenic.bed\n",
        "!bedtools intersect -a zdnabert.bed -b genes.bed -u > zdnabert_genes.bed\n"
      ],
      "metadata": {
        "id": "MZnziCneIrV8"
      },
      "execution_count": null,
      "outputs": []
    },
    {
      "cell_type": "code",
      "source": [
        "! head zdnabert_exons.bed"
      ],
      "metadata": {
        "colab": {
          "base_uri": "https://localhost:8080/"
        },
        "id": "76FY7uN6I8KB",
        "outputId": "d094c7dc-ab90-4265-8f2b-88e75a35e443"
      },
      "execution_count": null,
      "outputs": [
        {
          "output_type": "stream",
          "name": "stdout",
          "text": [
            "NC_058066.1\t29330\t29347\n",
            "NC_058066.1\t46088\t46100\n",
            "NC_058066.1\t46683\t46698\n",
            "NC_058066.1\t46874\t46890\n",
            "NC_058066.1\t47152\t47171\n",
            "NC_058066.1\t49858\t49874\n",
            "NC_058066.1\t69172\t69189\n",
            "NC_058066.1\t189913\t189929\n",
            "NC_058066.1\t517621\t517646\n",
            "NC_058066.1\t632266\t632290\n"
          ]
        }
      ]
    },
    {
      "cell_type": "code",
      "source": [
        "\n",
        "total = sum(1 for _ in open(\"zdnabert.bed\"))\n",
        "regions = [\"exons\", \"introns\", \"promoters\", \"downstream\", \"intergenic\", \"genes\"]\n",
        "\n",
        "def count_hits(region):\n",
        "    try:\n",
        "        with open(f\"zdnabert_{region}.bed\") as f:\n",
        "            return sum(1 for _ in f)\n",
        "    except FileNotFoundError:\n",
        "        return 0\n",
        "\n",
        "print(\"| Участок     | Число попаданий | Доля (%) |\")\n",
        "print(\"|-------------|-----------------|----------|\")\n",
        "for region in regions:\n",
        "    count = count_hits(region)\n",
        "    percent = round(count / total * 100, 2) if total > 0 else 0\n",
        "    print(f\"| {region:<11} | {count:<15} | {percent:<8} |\")\n"
      ],
      "metadata": {
        "colab": {
          "base_uri": "https://localhost:8080/"
        },
        "id": "Pek98ANJI_8-",
        "outputId": "2e24a7cd-3910-4dfe-ac8d-0154d94012b8"
      },
      "execution_count": null,
      "outputs": [
        {
          "output_type": "stream",
          "name": "stdout",
          "text": [
            "| Участок     | Число попаданий | Доля (%) |\n",
            "|-------------|-----------------|----------|\n",
            "| exons       | 9172            | 10.89    |\n",
            "| introns     | 26359           | 31.29    |\n",
            "| promoters   | 5577            | 6.62     |\n",
            "| downstream  | 1116            | 1.32     |\n",
            "| intergenic  | 30777           | 36.53    |\n",
            "| genes       | 34674           | 41.16    |\n"
          ]
        }
      ]
    },
    {
      "cell_type": "markdown",
      "source": [
        "### Пересечение квадруплексы"
      ],
      "metadata": {
        "id": "xsg9NfLqXWIB"
      }
    },
    {
      "cell_type": "code",
      "source": [
        "!bedtools intersect -a quadruplexes.bed -b exons.bed -u > g4_exons.bed\n",
        "!bedtools intersect -a quadruplexes.bed -b introns.bed -u > g4_introns.bed\n",
        "!bedtools intersect -a quadruplexes.bed -b promoters.bed -u > g4_promoters.bed\n",
        "!bedtools intersect -a quadruplexes.bed -b downstream.bed -u > g4_downstream.bed\n",
        "!bedtools intersect -a quadruplexes.bed -b intergenic.bed -u > g4_intergenic.bed\n",
        "!bedtools intersect -a quadruplexes.bed -b genes.bed -u > g4_genes.bed\n"
      ],
      "metadata": {
        "id": "K-lSUOeaMdBv"
      },
      "execution_count": null,
      "outputs": []
    },
    {
      "cell_type": "code",
      "source": [
        "total_g4 = sum(1 for _ in open(\"quadruplexes.bed\"))\n",
        "\n",
        "regions = [\"exons\", \"introns\", \"promoters\", \"downstream\", \"intergenic\", \"genes\"]\n",
        "\n",
        "def count_g4_hits(region):\n",
        "    try:\n",
        "        with open(f\"g4_{region}.bed\") as f:\n",
        "            return sum(1 for _ in f)\n",
        "    except FileNotFoundError:\n",
        "        return 0\n",
        "\n",
        "print(\"| Участок     | Число квадруплексов | Доля (%) |\")\n",
        "print(\"|-------------|----------------------|----------|\")\n",
        "for region in regions:\n",
        "    count = count_g4_hits(region)\n",
        "    percent = round(count / total_g4 * 100, 2) if total_g4 > 0 else 0\n",
        "    print(f\"| {region:<11} | {count:<22} | {percent:<8} |\")\n"
      ],
      "metadata": {
        "colab": {
          "base_uri": "https://localhost:8080/"
        },
        "id": "KYjZBSlpMhMQ",
        "outputId": "3fe1caf1-3438-4261-b97d-44e1482b5c63"
      },
      "execution_count": null,
      "outputs": [
        {
          "output_type": "stream",
          "name": "stdout",
          "text": [
            "| Участок     | Число квадруплексов | Доля (%) |\n",
            "|-------------|----------------------|----------|\n",
            "| exons       | 912                    | 5.09     |\n",
            "| introns     | 7077                   | 39.46    |\n",
            "| promoters   | 1217                   | 6.79     |\n",
            "| downstream  | 320                    | 1.78     |\n",
            "| intergenic  | 6067                   | 33.83    |\n",
            "| genes       | 7872                   | 43.89    |\n"
          ]
        }
      ]
    },
    {
      "cell_type": "code",
      "source": [],
      "metadata": {
        "id": "KKJpylBgOiaE"
      },
      "execution_count": null,
      "outputs": []
    },
    {
      "cell_type": "markdown",
      "source": [
        "## 2 таблица"
      ],
      "metadata": {
        "id": "jJM0WK12OiqU"
      }
    },
    {
      "cell_type": "code",
      "source": [
        "!bedtools intersect -a promoters.bed -b quadruplexes.bed -c > promoters_g4_counts.bed\n",
        "!bedtools intersect -a promoters.bed -b zdnabert.bed -c > promoters_bert_counts.bed\n"
      ],
      "metadata": {
        "id": "3jkLUuh8PGKv"
      },
      "execution_count": null,
      "outputs": []
    },
    {
      "cell_type": "code",
      "source": [
        "g4_df = pd.read_csv(\"promoters_g4_counts.bed\", sep=\"\\t\", header=None)\n",
        "bert_df = pd.read_csv(\"promoters_bert_counts.bed\", sep=\"\\t\", header=None)\n",
        "\n",
        "total_promoters = len(g4_df)\n",
        "with_g4 = (g4_df.iloc[:, -1] > 0).sum()\n",
        "g4_percent = round(with_g4 / total_promoters * 100, 2)\n",
        "\n",
        "with_bert = (bert_df.iloc[:, -1] > 0).sum()\n",
        "bert_percent = round(with_bert / total_promoters * 100, 2)\n",
        "\n",
        "print(\"### Промотеры\")\n",
        "print(f\"Всего участков: {total_promoters}\")\n",
        "print(f\"С квадруплексом: {with_g4} ({g4_percent}%)\")\n",
        "print(f\"С ZDNABERT: {with_bert} ({bert_percent}%)\")\n"
      ],
      "metadata": {
        "colab": {
          "base_uri": "https://localhost:8080/"
        },
        "id": "wRvewmaPP4Xi",
        "outputId": "ef838611-2bb6-4309-e0dd-3b610706745d"
      },
      "execution_count": null,
      "outputs": [
        {
          "output_type": "stream",
          "name": "stdout",
          "text": [
            "### Промотеры\n",
            "Всего участков: 27201\n",
            "С квадруплексом: 1167 (4.29%)\n",
            "С ZDNABERT: 4889 (17.97%)\n"
          ]
        }
      ]
    },
    {
      "cell_type": "code",
      "source": [
        "# EXONS\n",
        "!bedtools intersect -a exons.bed -b quadruplexes.bed -c > exons_g4_counts.bed\n",
        "!bedtools intersect -a exons.bed -b zdnabert.bed -c > exons_bert_counts.bed\n",
        "\n",
        "# INTRONS\n",
        "!bedtools intersect -a introns.bed -b quadruplexes.bed -c > introns_g4_counts.bed\n",
        "!bedtools intersect -a introns.bed -b zdnabert.bed -c > introns_bert_counts.bed\n",
        "\n",
        "# DOWNSTREAM\n",
        "!bedtools intersect -a downstream.bed -b quadruplexes.bed -c > downstream_g4_counts.bed\n",
        "!bedtools intersect -a downstream.bed -b zdnabert.bed -c > downstream_bert_counts.bed\n",
        "\n",
        "# INTERGENIC\n",
        "!bedtools intersect -a intergenic.bed -b quadruplexes.bed -c > intergenic_g4_counts.bed\n",
        "!bedtools intersect -a intergenic.bed -b zdnabert.bed -c > intergenic_bert_counts.bed\n"
      ],
      "metadata": {
        "id": "sUctgOfuSeVw"
      },
      "execution_count": null,
      "outputs": []
    },
    {
      "cell_type": "code",
      "source": [
        "def count_regions_with_hits(bed_file):\n",
        "    df = pd.read_csv(bed_file, sep=\"\\t\", header=None)\n",
        "    total = len(df)\n",
        "    with_hit = (df.iloc[:, -1] > 0).sum()\n",
        "    percent = round(with_hit / total * 100, 2)\n",
        "    return total, with_hit, percent\n",
        "\n",
        "regions = ['exons', 'introns', 'downstream', 'intergenic']\n",
        "result_rows = []\n",
        "\n",
        "for region in regions:\n",
        "    row = {'Участок': region.capitalize()}\n",
        "\n",
        "    total, g4_hits, g4_percent = count_regions_with_hits(f\"{region}_g4_counts.bed\")\n",
        "    _, bert_hits, bert_percent = count_regions_with_hits(f\"{region}_bert_counts.bed\")\n",
        "\n",
        "    row['Всего участков'] = total\n",
        "    row['С квадруплексом'] = g4_hits\n",
        "    row['Доля с квадруплексом (%)'] = g4_percent\n",
        "    row['С ZDNABERT'] = bert_hits\n",
        "    row['Доля с ZDNABERT (%)'] = bert_percent\n",
        "\n",
        "    result_rows.append(row)\n",
        "\n",
        "result_rows.insert(0, {\n",
        "    'Участок': 'Promoters (1000 up TSS)',\n",
        "    'Всего участков': 27201,\n",
        "    'С квадруплексом': 1167,\n",
        "    'Доля с квадруплексом (%)': 4.29,\n",
        "    'С ZDNABERT': 4889,\n",
        "    'Доля с ZDNABERT (%)': 17.97\n",
        "})\n",
        "\n",
        "df = pd.DataFrame(result_rows)\n",
        "print(df.to_markdown(index=False))\n"
      ],
      "metadata": {
        "colab": {
          "base_uri": "https://localhost:8080/"
        },
        "id": "SIIg4OCVSj8G",
        "outputId": "ee7a2803-3e80-463b-a9ec-4b63fbabfc61"
      },
      "execution_count": null,
      "outputs": [
        {
          "output_type": "stream",
          "name": "stdout",
          "text": [
            "| Участок                 |   Всего участков |   С квадруплексом |   Доля с квадруплексом (%) |   С ZDNABERT |   Доля с ZDNABERT (%) |\n",
            "|:------------------------|-----------------:|------------------:|---------------------------:|-------------:|----------------------:|\n",
            "| Promoters (1000 up TSS) |            27201 |              1167 |                       4.29 |         4889 |                 17.97 |\n",
            "| Exons                   |           324069 |              1397 |                       0.43 |        11627 |                  3.59 |\n",
            "| Introns                 |           171057 |              6524 |                       3.81 |        18876 |                 11.03 |\n",
            "| Downstream              |            27201 |               320 |                       1.18 |         1043 |                  3.83 |\n",
            "| Intergenic              |            23424 |              4049 |                      17.29 |        10934 |                 46.68 |\n"
          ]
        }
      ]
    },
    {
      "cell_type": "code",
      "source": [
        "# EXONS\n",
        "!bedtools intersect -a exons.bed -b zdna_gt400.bed -c > exons_zhunt_counts.bed\n",
        "\n",
        "# INTRONS\n",
        "!bedtools intersect -a introns.bed -b zdna_gt400.bed -c > introns_zhunt_counts.bed\n",
        "\n",
        "# DOWNSTREAM\n",
        "!bedtools intersect -a downstream.bed -b zdna_gt400.bed -c > downstream_zhunt_counts.bed\n",
        "\n",
        "# INTERGENIC\n",
        "!bedtools intersect -a intergenic.bed -b zdna_gt400.bed -c > intergenic_zhunt_counts.bed\n"
      ],
      "metadata": {
        "id": "Ht64RjiQYUC7"
      },
      "execution_count": null,
      "outputs": []
    },
    {
      "cell_type": "code",
      "source": [
        "!bedtools intersect -a promoters.bed -b zdna_gt400.bed -c > promoters_zhunt_counts.bed"
      ],
      "metadata": {
        "id": "NGMFIxMxYvQy"
      },
      "execution_count": null,
      "outputs": []
    },
    {
      "cell_type": "code",
      "source": [
        "! head exons_zhunt_counts.bed"
      ],
      "metadata": {
        "colab": {
          "base_uri": "https://localhost:8080/"
        },
        "id": "PN5TsMppYpTF",
        "outputId": "d9ad1248-340c-4a0c-f8c8-e5191a76dac9"
      },
      "execution_count": null,
      "outputs": [
        {
          "output_type": "stream",
          "name": "stdout",
          "text": [
            "NC_058066.1\t1961\t2119\t.\t0\t-\t0\n",
            "NC_058066.1\t15360\t15664\t.\t0\t+\t0\n",
            "NC_058066.1\t18710\t18775\t.\t0\t-\t0\n",
            "NC_058066.1\t21000\t21093\t.\t0\t-\t0\n",
            "NC_058066.1\t22158\t22443\t.\t0\t+\t0\n",
            "NC_058066.1\t23084\t23221\t.\t0\t-\t0\n",
            "NC_058066.1\t24770\t25067\t.\t0\t+\t0\n",
            "NC_058066.1\t26652\t26913\t.\t0\t+\t0\n",
            "NC_058066.1\t27071\t27359\t.\t0\t+\t0\n",
            "NC_058066.1\t27658\t27952\t.\t0\t+\t0\n"
          ]
        }
      ]
    },
    {
      "cell_type": "code",
      "source": [
        "import pandas as pd\n",
        "\n",
        "def count_regions_with_hits(bed_file):\n",
        "    df = pd.read_csv(bed_file, sep=\"\\t\", header=None)\n",
        "    total = len(df)\n",
        "    with_hits = (df.iloc[:, -1] > 0).sum()\n",
        "    percent = round(with_hits / total * 100, 2)\n",
        "    return total, with_hits, percent\n",
        "\n",
        "regions = {\n",
        "    \"Promoters (1000 up TSS)\": \"promoters_zhunt_counts.bed\",\n",
        "    \"Exons\": \"exons_zhunt_counts.bed\",\n",
        "    \"Introns\": \"introns_zhunt_counts.bed\",\n",
        "    \"Downstream\": \"downstream_zhunt_counts.bed\",\n",
        "    \"Intergenic\": \"intergenic_zhunt_counts.bed\"\n",
        "}\n",
        "\n",
        "rows = []\n",
        "\n",
        "for label, file in regions.items():\n",
        "    total, with_zhunt, zhunt_pct = count_regions_with_hits(file)\n",
        "    rows.append({\n",
        "        \"Участок\": label,\n",
        "        \"Всего участков\": total,\n",
        "        \"С Zhun\": with_zhunt,\n",
        "        \"Доля с Zhun (%)\": zhunt_pct\n",
        "    })\n",
        "\n",
        "df = pd.DataFrame(rows)\n",
        "print(df.to_markdown(index=False))\n"
      ],
      "metadata": {
        "colab": {
          "base_uri": "https://localhost:8080/"
        },
        "id": "2YkU6hL2YsB1",
        "outputId": "074a730d-2d7f-41c5-89cb-18839c67194c"
      },
      "execution_count": null,
      "outputs": [
        {
          "output_type": "stream",
          "name": "stdout",
          "text": [
            "| Участок                 |   Всего участков |   С Zhun |   Доля с Zhun (%) |\n",
            "|:------------------------|-----------------:|---------:|------------------:|\n",
            "| Promoters (1000 up TSS) |            27201 |     7271 |             26.73 |\n",
            "| Exons                   |           324069 |    19623 |              6.06 |\n",
            "| Introns                 |           171057 |    30286 |             17.71 |\n",
            "| Downstream              |            27201 |     1747 |              6.42 |\n",
            "| Intergenic              |            23424 |    13093 |             55.9  |\n"
          ]
        }
      ]
    },
    {
      "cell_type": "code",
      "source": [],
      "metadata": {
        "id": "vjDrbqQuYSQ0"
      },
      "execution_count": null,
      "outputs": []
    },
    {
      "cell_type": "markdown",
      "source": [
        "## Групповая часть"
      ],
      "metadata": {
        "id": "GAkZXPCBYRvh"
      }
    },
    {
      "cell_type": "code",
      "source": [
        "!bedtools intersect -a promoters.bed -b quadruplexes.bed -wa -wb > promoters_with_g4.bed\n"
      ],
      "metadata": {
        "id": "ELLfpEzRi78i"
      },
      "execution_count": null,
      "outputs": []
    },
    {
      "cell_type": "code",
      "source": [
        "\n",
        "cols = ['chr', 'prom_start', 'prom_end', 'name', 'score', 'strand',\n",
        "        'g4_chr', 'g4_start', 'g4_end', 'g4_strand']\n",
        "g4_promoters = pd.read_csv(\"promoters_with_g4.bed\", sep=\"\\t\", header=None, names=cols)\n",
        "\n",
        "annotation_df = pd.read_pickle(\"annotation_df_with_introns.pkl\")\n",
        "genes = annotation_df[annotation_df['type'] == 'gene'].copy()\n",
        "genes['start_bed'] = genes['start'] - 1\n",
        "\n",
        "matched = []\n",
        "\n",
        "for _, row in g4_promoters.iterrows():\n",
        "    chrom = row['chr']\n",
        "    strand = row['strand']\n",
        "    prom_start = row['prom_start']\n",
        "    prom_end = row['prom_end']\n",
        "    g4_start = row['g4_start']\n",
        "    g4_end = row['g4_end']\n",
        "\n",
        "    if strand == '+':\n",
        "        gene_hit = genes[\n",
        "            (genes['seqid'] == chrom) &\n",
        "            (genes['start_bed'] == prom_end) &\n",
        "            (genes['strand'] == strand)\n",
        "        ]\n",
        "    else:\n",
        "        gene_hit = genes[\n",
        "            (genes['seqid'] == chrom) &\n",
        "            (genes['end'] == prom_start) &\n",
        "            (genes['strand'] == strand)\n",
        "        ]\n",
        "\n",
        "    if not gene_hit.empty:\n",
        "        gene = gene_hit.iloc[0].copy()\n",
        "        gene['g4_start'] = g4_start\n",
        "        gene['g4_end'] = g4_end\n",
        "        gene['g4_strand'] = strand\n",
        "        matched.append(gene)\n",
        "\n",
        "matched_df = pd.DataFrame(matched)\n",
        "matched_df = matched_df[['seqid', 'start', 'end', 'strand', 'attributes', 'g4_start', 'g4_end']]\n",
        "matched_df.to_csv(\"genes_with_g4_in_promoters.tsv\", sep=\"\\t\", index=False)\n",
        "\n",
        "print(matched_df.head(5))\n"
      ],
      "metadata": {
        "id": "w0gVISIFkLl0",
        "outputId": "c6bc9967-0aa1-41b1-ca69-696e7a61e7d9",
        "colab": {
          "base_uri": "https://localhost:8080/"
        }
      },
      "execution_count": null,
      "outputs": [
        {
          "output_type": "stream",
          "name": "stdout",
          "text": [
            "            seqid    start      end strand  \\\n",
            "205   NC_058066.1    92732   195229      +   \n",
            "1433  NC_058066.1   673540   681064      -   \n",
            "2091  NC_058066.1   769769   771513      +   \n",
            "3570  NC_058066.1  1234994  1239047      -   \n",
            "3570  NC_058066.1  1234994  1239047      -   \n",
            "\n",
            "                                             attributes  g4_start   g4_end  \n",
            "205   ID=gene-LOC114963509;Dbxref=GeneID:114963509;N...     92480    92509  \n",
            "1433  ID=gene-LOC114952867;Dbxref=GeneID:114952867;N...    681858   681879  \n",
            "2091  ID=gene-LOC114952842;Dbxref=GeneID:114952842;N...    768885   768907  \n",
            "3570  ID=gene-LOC122957806;Dbxref=GeneID:122957806;N...   1239580  1239621  \n",
            "3570  ID=gene-LOC122957806;Dbxref=GeneID:122957806;N...   1239748  1239769  \n"
          ]
        }
      ]
    },
    {
      "cell_type": "code",
      "source": [
        "!bedtools intersect -a promoters.bed -b zdnabert.bed -wa -wb > promoters_with_zdna.bed\n"
      ],
      "metadata": {
        "id": "EN2hfRScwm-y"
      },
      "execution_count": 3,
      "outputs": []
    },
    {
      "cell_type": "code",
      "source": [
        "import pandas as pd\n",
        "\n",
        "cols = ['chr', 'prom_start', 'prom_end', 'name', 'score', 'strand',\n",
        "        'zdna_chr', 'zdna_start', 'zdna_end']\n",
        "z_promoters = pd.read_csv(\"promoters_with_zdna.bed\", sep=\"\\t\", header=None, names=cols)\n",
        "\n",
        "annotation_df = pd.read_pickle(\"annotation_df_with_introns.pkl\")\n",
        "genes = annotation_df[annotation_df['type'] == 'gene'].copy()\n",
        "genes['start_bed'] = genes['start'] - 1\n",
        "\n",
        "matched = []\n",
        "\n",
        "for _, row in z_promoters.iterrows():\n",
        "    chrom = row['chr']\n",
        "    strand = row['strand']\n",
        "    prom_start = row['prom_start']\n",
        "    prom_end = row['prom_end']\n",
        "    zdna_start = row['zdna_start']\n",
        "    zdna_end = row['zdna_end']\n",
        "\n",
        "    if strand == '+':\n",
        "        gene_hit = genes[\n",
        "            (genes['seqid'] == chrom) &\n",
        "            (genes['start_bed'] == prom_end) &\n",
        "            (genes['strand'] == strand)\n",
        "        ]\n",
        "    else:\n",
        "        gene_hit = genes[\n",
        "            (genes['seqid'] == chrom) &\n",
        "            (genes['end'] == prom_start) &\n",
        "            (genes['strand'] == strand)\n",
        "        ]\n",
        "\n",
        "    if not gene_hit.empty:\n",
        "        gene = gene_hit.iloc[0].copy()\n",
        "        gene['zdna_start'] = zdna_start\n",
        "        gene['zdna_end'] = zdna_end\n",
        "        gene['zdna_strand'] = strand\n",
        "        matched.append(gene)\n",
        "\n",
        "matched_df = pd.DataFrame(matched)\n",
        "matched_df = matched_df[['seqid', 'start', 'end', 'strand', 'attributes', 'zdna_start', 'zdna_end']]\n",
        "matched_df.to_csv(\"genes_with_zdna_in_promoters.tsv\", sep=\"\\t\", index=False)\n",
        "\n",
        "print(matched_df.head(5))\n"
      ],
      "metadata": {
        "colab": {
          "base_uri": "https://localhost:8080/"
        },
        "id": "5eEX87GrwowH",
        "outputId": "1dcbf07b-0bc2-448f-bfa2-b760ad6efb60"
      },
      "execution_count": 4,
      "outputs": [
        {
          "output_type": "stream",
          "name": "stdout",
          "text": [
            "           seqid   start     end strand  \\\n",
            "1    NC_058066.1    1962   23221      -   \n",
            "79   NC_058066.1   48365   50069      -   \n",
            "87   NC_058066.1   53120   55082      +   \n",
            "112  NC_058066.1   57152   69127      -   \n",
            "499  NC_058066.1  321951  383632      +   \n",
            "\n",
            "                                            attributes  zdna_start  zdna_end  \n",
            "1    ID=gene-LOC114963522;Dbxref=GeneID:114963522;N...       23302     23311  \n",
            "79   ID=gene-LOC114963519;Dbxref=GeneID:114963519;N...       50341     50358  \n",
            "87   ID=gene-LOC114950438;Dbxref=GeneID:114950438;N...       52516     52534  \n",
            "112  ID=gene-LOC114963510;Dbxref=GeneID:114963510;N...       69172     69189  \n",
            "499  ID=gene-LOC114952822;Dbxref=GeneID:114952822;N...      321912    321927  \n"
          ]
        }
      ]
    },
    {
      "cell_type": "code",
      "source": [
        "\n",
        "cols = ['chr', 'prom_start', 'prom_end', 'name', 'score', 'strand',\n",
        "        'zdna_chr', 'zdna_start', 'zdna_end']\n",
        "z_promoters = pd.read_csv(\"promoters_with_zdna.bed\", sep=\"\\t\", header=None, names=cols)\n",
        "\n",
        "annotation_df = pd.read_pickle(\"annotation_df_with_introns.pkl\")\n",
        "genes = annotation_df[annotation_df['type'] == 'gene'].copy()\n",
        "genes['start_bed'] = genes['start'] - 1\n",
        "\n",
        "matched = []\n",
        "\n",
        "for _, row in z_promoters.iterrows():\n",
        "    chrom = row['chr']\n",
        "    strand = row['strand']\n",
        "    prom_start = row['prom_start']\n",
        "    prom_end = row['prom_end']\n",
        "    zdna_start = row['zdna_start']\n",
        "    zdna_end = row['zdna_end']\n",
        "\n",
        "    if strand == '+':\n",
        "        gene_hit = genes[\n",
        "            (genes['seqid'] == chrom) &\n",
        "            (genes['start_bed'] == prom_end) &\n",
        "            (genes['strand'] == strand)\n",
        "        ]\n",
        "    else:\n",
        "        gene_hit = genes[\n",
        "            (genes['seqid'] == chrom) &\n",
        "            (genes['end'] == prom_start) &\n",
        "            (genes['strand'] == strand)\n",
        "        ]\n",
        "\n",
        "    if not gene_hit.empty:\n",
        "        gene = gene_hit.iloc[0].copy()\n",
        "        gene['prom_start'] = prom_start\n",
        "        gene['prom_end'] = prom_end\n",
        "        gene['zdna_start'] = zdna_start\n",
        "        gene['zdna_end'] = zdna_end\n",
        "        gene['zdna_strand'] = strand\n",
        "        matched.append(gene)\n",
        "\n",
        "matched_df = pd.DataFrame(matched)\n",
        "matched_df = matched_df[['seqid', 'start', 'end', 'strand',\n",
        "                         'prom_start', 'prom_end', 'zdna_start', 'zdna_end', 'attributes']]\n",
        "matched_df.to_csv(\"genes_with_zdna_and_promoters.tsv\", sep=\"\\t\", index=False)\n",
        "\n",
        "print(matched_df.head())\n"
      ],
      "metadata": {
        "colab": {
          "base_uri": "https://localhost:8080/"
        },
        "id": "oBk7ldv31iaA",
        "outputId": "7646e055-2a32-4476-9ae9-1e2eb431bbc8"
      },
      "execution_count": 6,
      "outputs": [
        {
          "output_type": "stream",
          "name": "stdout",
          "text": [
            "           seqid   start     end strand  prom_start  prom_end  zdna_start  \\\n",
            "1    NC_058066.1    1962   23221      -       23221     24221       23302   \n",
            "79   NC_058066.1   48365   50069      -       50069     51069       50341   \n",
            "87   NC_058066.1   53120   55082      +       52119     53119       52516   \n",
            "112  NC_058066.1   57152   69127      -       69127     70127       69172   \n",
            "499  NC_058066.1  321951  383632      +      320950    321950      321912   \n",
            "\n",
            "     zdna_end                                         attributes  \n",
            "1       23311  ID=gene-LOC114963522;Dbxref=GeneID:114963522;N...  \n",
            "79      50358  ID=gene-LOC114963519;Dbxref=GeneID:114963519;N...  \n",
            "87      52534  ID=gene-LOC114950438;Dbxref=GeneID:114950438;N...  \n",
            "112     69189  ID=gene-LOC114963510;Dbxref=GeneID:114963510;N...  \n",
            "499    321927  ID=gene-LOC114952822;Dbxref=GeneID:114952822;N...  \n"
          ]
        }
      ]
    }
  ]
}